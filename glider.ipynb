{
 "cells": [
  {
   "cell_type": "code",
   "execution_count": 1,
   "metadata": {},
   "outputs": [],
   "source": [
    "from glider import Glider"
   ]
  },
  {
   "cell_type": "code",
   "execution_count": 2,
   "metadata": {
    "scrolled": true
   },
   "outputs": [
    {
     "name": "stdout",
     "output_type": "stream",
     "text": [
      "10.0\n",
      "[0.0, 10.0, 100.0, 0.0, 0.0]\n",
      "step: 0, \t y = 100.0, \t x = 0.1\t phi = -0.7\n",
      "Lift: 0.2526384683989369, \t Drag: 0.033169810765017904\t Velocity: 10.0\n",
      "\n",
      "step: 100, \t y = 94.91104016507619, \t x = 9.8295321181374\t phi = -0.7\n",
      "Lift: 1.06108038436605, \t Drag: 0.5851141573048347\t Velocity: 14.148920433629208\n",
      "\n",
      "step: 200, \t y = 78.641688295029, \t x = 20.063768546567367\t phi = -0.7\n",
      "Lift: 3.383647064301246, \t Drag: 5.949961402043653\t Velocity: 25.252276131673845\n",
      "\n",
      "step: 300, \t y = 51.08024111308232, \t x = 36.37865176719265\t phi = -0.7\n",
      "Lift: 8.028722199377066, \t Drag: 33.49938982927143\t Velocity: 38.74023237250116\n",
      "\n",
      "step: 400, \t y = 27.776511710093256, \t x = 70.02067284192213\t phi = 0.0\n",
      "Lift: 7.951982074276814, \t Drag: 32.86206263194243\t Velocity: 38.532831293843294\n",
      "\n",
      "step: 500, \t y = 23.47160142160651, \t x = 104.12669314620258\t phi = 0.0\n",
      "Lift: 5.124904729462592, \t Drag: 13.649464931032796\t Velocity: 31.510093039937544\n",
      "\n",
      "step: 600, \t y = 23.92434321910752, \t x = 133.43724731876642\t phi = 0.0\n",
      "Lift: 3.833427740436965, \t Drag: 7.636926253539002\t Velocity: 27.309167124625425\n",
      "\n",
      "step: 700, \t y = 22.496369944610013, \t x = 159.09703122267015\t phi = 0.0\n",
      "Lift: 3.1671610257832494, \t Drag: 5.2129591680147245\t Velocity: 24.411377855734216\n",
      "\n",
      "step: 800, \t y = 16.460314595507736, \t x = 182.06673979665013\t phi = 0.0\n",
      "Lift: 2.9674156049104603, \t Drag: 4.5761556380915795\t Velocity: 23.63167888082559\n",
      "\n",
      "step: 900, \t y = 4.45416098875904, \t x = 203.19563133075025\t phi = 0.0\n",
      "Lift: 3.2142380269167874, \t Drag: 5.369082829397953\t Velocity: 25.562006508395083\n",
      "\n",
      "step: 928, \t y = 0.0, \t x = 208.78693170742497\t Velocity: 26.56495893543237\n",
      "\n"
     ]
    }
   ],
   "source": [
    "import random\n",
    "import math\n",
    "\n",
    "g = Glider()\n",
    "a = g.get_state()\n",
    "print(g.x_dot)\n",
    "print(a)\n",
    "reward = 0\n",
    "X = []\n",
    "H = []\n",
    "V = []\n",
    "num_steps = 20000\n",
    "for i in range(num_steps):\n",
    "    if i < 350:\n",
    "        g.phi = -0.7\n",
    "        # action = 0.1 # random.randint(0,10)/10.0 - 0.5\n",
    "    elif i < 400:\n",
    "        g.phi = -0.1\n",
    "    else:\n",
    "        g.phi = 0.0\n",
    "        \n",
    "    action = 0\n",
    "    # print(action)\n",
    "    # if g.phi > 0:\n",
    "    #    print('step: '+str(i)+', \\t phi = ' + str(g.phi))\n",
    "    reward, done = g.step(action)\n",
    "    state = g.get_state()\n",
    "    H.append(state[2])\n",
    "    X.append(state[0])\n",
    "    V.append(math.sqrt(state[1]**2 + state[3]**2))\n",
    "    \n",
    "    if i%100 == 0:\n",
    "        print('step: ' + str(i) + ', \\t y = ' + str(state[2]) + ', \\t x = ' + str(state[0]) + '\\t phi = ' + str(g.phi))\n",
    "        print('Lift: ' + str(g.lift) +', \\t Drag: ' + str(g.drag) + '\\t Velocity: ' + str(math.sqrt(g.x_dot**2 + g.y_dot**2)) + '\\n')\n",
    "    if done == True:\n",
    "        print('step: ' + str(i) + ', \\t y = ' + str(state[2]) + ', \\t x = ' + str(state[0]) + '\\t Velocity: ' + str(math.sqrt(g.x_dot**2 + g.y_dot**2)) +'\\n')\n",
    "        break"
   ]
  },
  {
   "cell_type": "code",
   "execution_count": 3,
   "metadata": {},
   "outputs": [
    {
     "data": {
      "image/png": "[encoded data removed]",
      "text/plain": [
       "<matplotlib.figure.Figure at 0x1ee01b33390>"
      ]
     },
     "metadata": {},
     "output_type": "display_data"
    }
   ],
   "source": [
    "import matplotlib.pyplot as plt\n",
    "plt.plot(X,H)\n",
    "# plt.plot(X,H,c = V)\n",
    "plt.scatter(100,0)\n",
    "plt.show()"
   ]
  },
  {
   "cell_type": "code",
   "execution_count": null,
   "metadata": {},
   "outputs": [],
   "source": [
    "import numpy as np\n",
    "v = np.linspace(-5,5, num = 11, endpoint=False)"
   ]
  },
  {
   "cell_type": "code",
   "execution_count": null,
   "metadata": {},
   "outputs": [],
   "source": [
    "import numpy as np\n",
    "v = np.linspace(-5,5, num = 11, endpoint=False)\n",
    "print(v)\n",
    "a =np.digitize(4.5, v)\n",
    "print(a)"
   ]
  },
  {
   "cell_type": "code",
   "execution_count": null,
   "metadata": {},
   "outputs": [],
   "source": [
    "x_dot"
   ]
  },
  {
   "cell_type": "code",
   "execution_count": null,
   "metadata": {
    "collapsed": true
   },
   "outputs": [],
   "source": []
  },
  {
   "cell_type": "code",
   "execution_count": null,
   "metadata": {
    "collapsed": true
   },
   "outputs": [],
   "source": []
  },
  {
   "cell_type": "code",
   "execution_count": null,
   "metadata": {},
   "outputs": [],
   "source": [
    "random.randint(1,2)"
   ]
  },
  {
   "cell_type": "code",
   "execution_count": null,
   "metadata": {},
   "outputs": [],
   "source": [
    "math.sin(-1)"
   ]
  },
  {
   "cell_type": "code",
   "execution_count": null,
   "metadata": {},
   "outputs": [],
   "source": [
    "g.phi"
   ]
  },
  {
   "cell_type": "code",
   "execution_count": null,
   "metadata": {},
   "outputs": [],
   "source": [
    "math.atan(1)"
   ]
  },
  {
   "cell_type": "code",
   "execution_count": null,
   "metadata": {},
   "outputs": [],
   "source": [
    "math.pi"
   ]
  },
  {
   "cell_type": "code",
   "execution_count": null,
   "metadata": {},
   "outputs": [],
   "source": [
    "X = []\n",
    "Y = []\n",
    "for i in range(-5,30):\n",
    "    # print(i)\n",
    "    X.append(i)\n",
    "    Y.append(Lift(i/180*math.pi,1, 0))\n",
    "plt.plot(X,Y)\n",
    "plt.show()"
   ]
  },
  {
   "cell_type": "code",
   "execution_count": null,
   "metadata": {},
   "outputs": [],
   "source": [
    "Y"
   ]
  },
  {
   "cell_type": "code",
   "execution_count": null,
   "metadata": {},
   "outputs": [],
   "source": [
    "math.sgn(1)"
   ]
  },
  {
   "cell_type": "code",
   "execution_count": null,
   "metadata": {
    "collapsed": true
   },
   "outputs": [],
   "source": []
  },
  {
   "cell_type": "code",
   "execution_count": null,
   "metadata": {},
   "outputs": [],
   "source": [
    "import numpy as np\n",
    "a = np.power(0.9,43)\n",
    "print(a)"
   ]
  },
  {
   "cell_type": "code",
   "execution_count": null,
   "metadata": {
    "collapsed": true
   },
   "outputs": [],
   "source": []
  },
  {
   "cell_type": "code",
   "execution_count": null,
   "metadata": {
    "collapsed": true
   },
   "outputs": [],
   "source": []
  },
  {
   "cell_type": "code",
   "execution_count": null,
   "metadata": {
    "collapsed": true
   },
   "outputs": [],
   "source": [
    "import math\n",
    "\n",
    "class Glider:\n",
    "    def __init__(self, mass = 1.0, A = 1.0, C_L = 1.0, C_D = 1.0, h = 100.0, phi = -0.1, delta_t = 0.1, target_x = 100):\n",
    "        self.gravity = 9.81\n",
    "        self.rho = 1.225\n",
    "        self.mass = mass\n",
    "        self.A = A\n",
    "        self.C_L = C_L\n",
    "        self.C_D = C_D\n",
    "        self.h = h\n",
    "        self.h_init = h\n",
    "        self.x = 0\n",
    "        self.phi = phi\n",
    "        self.vel = math.sqrt(self.mass*self.gravity/(0.5*self.rho*self.C_D*self.A)*math.sin(-self.phi))   \n",
    "        self.delta_t = delta_t\n",
    "        self.target_x = target_x\n",
    "   \n",
    "    def show_v(self):\n",
    "        return self.vel\n",
    "    \n",
    "    def step(self, action):\n",
    "        eps = 1e-6\n",
    "        done = False\n",
    "        reward = -abs(self.h - self.h_init*(self.target_x-self.x)/self.target_x)\n",
    "        self.phi = min(-eps, self.phi + 0.001*action)\n",
    "        h0 = self.h\n",
    "        x0 = self.x\n",
    "        self.h = h0 + math.sin(self.phi)*self.vel\n",
    "        if self.h <= 0.0:\n",
    "            self.x = x0 + math.cos(self.phi)*self.vel*h0/((h0-self.h)+eps)\n",
    "            self.h = 0.0\n",
    "            self.vel = 0.0\n",
    "            done = True\n",
    "            reward = reward - abs(self.x - self.target_x)\n",
    "        else:\n",
    "            self.x = x0 + math.cos(self.phi)*self.vel\n",
    "            self.vel = math.sqrt(self.mass*self.gravity/(0.5*self.rho*self.C_D*self.A)*math.sin(-self.phi))\n",
    "        return reward, done\n",
    "    \n",
    "    def get_state(self):\n",
    "        return [self.h, self.x]\n",
    "        "
   ]
  }
 ],
 "metadata": {
  "kernelspec": {
   "display_name": "Python 3",
   "language": "python",
   "name": "python3"
  },
  "language_info": {
   "codemirror_mode": {
    "name": "ipython",
    "version": 3
   },
   "file_extension": ".py",
   "mimetype": "text/x-python",
   "name": "python",
   "nbconvert_exporter": "python",
   "pygments_lexer": "ipython3",
   "version": "3.6.1"
  }
 },
 "nbformat": 4,
 "nbformat_minor": 2
}
